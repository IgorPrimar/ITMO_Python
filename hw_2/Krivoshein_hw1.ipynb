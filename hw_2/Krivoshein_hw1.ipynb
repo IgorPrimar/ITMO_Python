{
  "nbformat": 4,
  "nbformat_minor": 0,
  "metadata": {
    "colab": {
      "provenance": []
    },
    "kernelspec": {
      "name": "python3",
      "display_name": "Python 3"
    },
    "language_info": {
      "name": "python"
    }
  },
  "cells": [
    {
      "cell_type": "markdown",
      "source": [
        "**PYTHON**\n",
        "\n",
        "---\n",
        "\n",
        "\n",
        "Ответ на задание 1"
      ],
      "metadata": {
        "id": "ug78SBxJDXie"
      }
    },
    {
      "cell_type": "code",
      "source": [
        "class Chocolate:\n",
        "    def __init__(self, price: float, topping: str = None):\n",
        "        if price < 0:\n",
        "            raise ValueError(\"Цена шоколадного батончика должна быть больше нуля.\")\n",
        "        self.price = price\n",
        "        self.topping = topping\n",
        "\n",
        "    def show_my_chocolate(self):\n",
        "        if self.topping:\n",
        "            print(f\"Шоколадный батончик, добавка: {self.topping}\")\n",
        "        else:\n",
        "            print(\"Обычный шоколадный батончик\")\n",
        "\n",
        "    def __str__(self):\n",
        "        return f\"Шоколадный батончик, {self.price} рублей\"\n",
        "\n",
        "chocolate1 = Chocolate(50.0)\n",
        "chocolate2 = Chocolate(70.0, \"орехи\")\n",
        "chocolate3 = Chocolate(30.0, \"карамель\")\n",
        "\n",
        "print(chocolate1)\n",
        "chocolate1.show_my_chocolate()\n",
        "\n",
        "print(chocolate2)\n",
        "chocolate2.show_my_chocolate()\n",
        "\n",
        "print(chocolate3)\n",
        "chocolate3.show_my_chocolate()"
      ],
      "metadata": {
        "id": "SHMUBAYdDdt8"
      },
      "execution_count": null,
      "outputs": []
    }
  ]
}